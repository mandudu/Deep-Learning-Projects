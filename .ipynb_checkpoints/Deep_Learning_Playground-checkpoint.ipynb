{
 "cells": [
  {
   "cell_type": "markdown",
   "id": "d2e3322a",
   "metadata": {},
   "source": [
    "# In this notebook, we're going to cover some of the most fundamental concepts of tensors using TensorFlow\n",
    "\n",
    "More specifically, I'm going to cover: \n",
    "*introduction to tensors\n",
    "*Getting info from tensors\n",
    "*"
   ]
  },
  {
   "cell_type": "code",
   "execution_count": null,
   "id": "1b60eaf7",
   "metadata": {},
   "outputs": [],
   "source": []
  }
 ],
 "metadata": {
  "kernelspec": {
   "display_name": "Python 3 (ipykernel)",
   "language": "python",
   "name": "python3"
  },
  "language_info": {
   "codemirror_mode": {
    "name": "ipython",
    "version": 3
   },
   "file_extension": ".py",
   "mimetype": "text/x-python",
   "name": "python",
   "nbconvert_exporter": "python",
   "pygments_lexer": "ipython3",
   "version": "3.10.4"
  }
 },
 "nbformat": 4,
 "nbformat_minor": 5
}
