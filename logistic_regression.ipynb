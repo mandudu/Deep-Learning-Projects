{
  "nbformat": 4,
  "nbformat_minor": 0,
  "metadata": {
    "colab": {
      "provenance": [],
      "include_colab_link": true
    },
    "kernelspec": {
      "name": "python3",
      "display_name": "Python 3"
    },
    "language_info": {
      "name": "python"
    },
    "accelerator": "GPU",
    "gpuClass": "standard"
  },
  "cells": [
    {
      "cell_type": "markdown",
      "metadata": {
        "id": "view-in-github",
        "colab_type": "text"
      },
      "source": [
        "<a href=\"https://colab.research.google.com/github/mandudu/Deep-Learning-Projects/blob/main/logistic_regression.ipynb\" target=\"_parent\"><img src=\"https://colab.research.google.com/assets/colab-badge.svg\" alt=\"Open In Colab\"/></a>"
      ]
    },
    {
      "cell_type": "markdown",
      "source": [
        "# 1. Logistic Regression for Binary Classification (1.5 points)\n",
        "\n",
        "In softmax regression, the model's output probabilities are given by\n",
        "\n",
        "$$p(y|\\mathbf{o}) = \\mathrm{softmax}(\\mathbf{o})_y = \\frac{\\exp(o_y)}{\\sum_{y'} \\exp(o_{y'})}$$\n",
        "\n",
        "1. Show that this parametrization has a spurious degree of freedom. That is, show that both $\\mathbf{o}$ and $\\mathbf{o} + c$ with $c \\in \\mathbb{R}$ lead to the same probability estimate.\n",
        "\n",
        "2. For binary classification, i.e. whenever we have only two classes $\\{-1, 1\\}$, we can arbitrarily set $o_{-1} = 0$. Using the shorthand $o = o_1$ show that this is equivalent to \n",
        "\n",
        "$$p(y=1|o) = \\frac{1}{1 + \\exp(-o)}$$\n",
        "\n",
        "3. Show that the log-likelihood loss (often called logistic loss) for labels $y \\in \\{-1, 1\\}$ is thus given by \n",
        "\n",
        "$$-\\log p(y|o) = \\log (1 + \\exp(-y \\cdot o))$$\n",
        "\n",
        "4. Show that for $y = 1$ the logistic loss asymptotes to $0$ for $o \\to \\infty$ and to $\\infty$ for $o \\to -\\infty$. "
      ],
      "metadata": {
        "id": "0VV0ToY_fa2M"
      }
    },
    {
      "cell_type": "markdown",
      "source": [
        "# Problem 1 was hand written. See pdf attached in the submitted section of SAKAI"
      ],
      "metadata": {
        "id": "veQhjdO2ihKs"
      }
    },
    {
      "cell_type": "markdown",
      "source": [
        "# 2. Implementing the logistic loss (1 point)\n",
        "\n",
        "1. Implement the binary logistic loss $l(y,o) = \\log (1 + \\exp(-y \\cdot o))$ in numpy.\n",
        "1. Plot its values for $y \\in \\{-1, 1\\}$ over the range of $o \\in [-5, 5]$.\n",
        "1. Derive the derivative of $l(y,o)$ and show your work. Then, in a new plot, plot derivative of $l(y,o)$ with respect to $o$ for $y \\in \\{-1, 1\\}$ and for $o \\in [-5, 5]$ without using any automatic differentiation software (e.g. Pytorch, TensorFlow, JAX, etc.).\n",
        "1. In a new plot, plot $l(y,o)$ with $y = 1$ and $o ∈ [-1000, 1000]$. What happens for large positive and large negative values of $o$? Why?"
      ],
      "metadata": {
        "id": "dMcRnYVRfxfp"
      }
    },
    {
      "cell_type": "code",
      "source": [
        "import numpy as np\n",
        "import matplotlib.pyplot as plt\n",
        "import pandas as pd\n",
        "\n",
        "#loss function\n",
        "def loss(y,o): \n",
        "  loss = np.log(1+np.exp(-y*o))\n",
        "  return loss\n",
        "\n",
        "#Derivative of loss function\n",
        "def diff(y,o):\n",
        "  diff = -y/(np.exp(o*y)+1)\n",
        "  return diff\n",
        "\n",
        "def soft(o):\n",
        "  return(np.exp(o.T)/ np.sum(np.exp(o), axis=1)).T"
      ],
      "metadata": {
        "id": "16-PYh3-eZwk"
      },
      "execution_count": null,
      "outputs": []
    },
    {
      "cell_type": "code",
      "source": [
        "o = np.array(np.linspace(-5,5,100))\n",
        "o_thousand = np.array(np.linspace(-1000,1000,100))\n",
        "\n",
        "#plot of the loss function\n",
        "plt.plot(o, loss(1.0,o))\n",
        "plt.plot(o, loss(-1.0,o))\n",
        "plt.show()\n",
        "\n",
        "#plot of the derived loss function\n",
        "plt.plot(o, diff(1.0,o))\n",
        "plt.plot(o, diff(-1.0,o))\n",
        "plt.show()\n",
        "\n",
        "#plot of o ∈ [-1000,1000]\n",
        "plt.scatter(o_thousand, loss(1.0,o_thousand))\n"
      ],
      "metadata": {
        "colab": {
          "base_uri": "https://localhost:8080/",
          "height": 813
        },
        "id": "FSwmcju9fEKX",
        "outputId": "5b082e79-0761-4438-cfe1-c4d8a0d1707d"
      },
      "execution_count": null,
      "outputs": [
        {
          "output_type": "display_data",
          "data": {
            "text/plain": [
              "<Figure size 432x288 with 1 Axes>"
            ],
            "image/png": "[encoded data removed]"
          },
          "metadata": {
            "needs_background": "light"
          }
        },
        {
          "output_type": "display_data",
          "data": {
            "text/plain": [
              "<Figure size 432x288 with 1 Axes>"
            ],
            "image/png": "[encoded data removed]"
          },
          "metadata": {
            "needs_background": "light"
          }
        },
        {
          "output_type": "stream",
          "name": "stderr",
          "text": [
            "<ipython-input-114-8844c8fb50fe>:7: RuntimeWarning: overflow encountered in exp\n",
            "  loss = np.log(1+np.exp(-y*o))\n"
          ]
        },
        {
          "output_type": "execute_result",
          "data": {
            "text/plain": [
              "<matplotlib.collections.PathCollection at 0x7fd26868d1c0>"
            ]
          },
          "metadata": {},
          "execution_count": 115
        },
        {
          "output_type": "display_data",
          "data": {
            "text/plain": [
              "<Figure size 432x288 with 1 Axes>"
            ],
            "image/png": "[encoded data removed]"
          },
          "metadata": {
            "needs_background": "light"
          }
        }
      ]
    },
    {
      "cell_type": "markdown",
      "source": [
        "As o moves towards the positive end, it shows that it is dull with changes. On the other side, as o moves towards the negative end, it shows that the error computation exceeds the limit of the program. The reason behind this is because when o is an extremely large negative number in the case where y = 1, the equation would become exp(|-o|), which will be an extremely high number that the python language couldn't handle. On the other side, if o is an extremely large positive number, the signs will be opposite, exp(-o). This will eventually equal to 0.    \n",
        "\n",
        "\n",
        "# Question 3 was hand written. See PDF"
      ],
      "metadata": {
        "id": "mDk0MvgngBDj"
      }
    },
    {
      "cell_type": "markdown",
      "source": [
        "# 3. Implementing logistic regression (1.5 points)\n",
        "\n",
        "Implement a basic logistic regression model and fit it to the data from the new `generate_data` function (below) using gradient descent.\n",
        "Your model should take the form `o = m*x + b`, where `o` is the output (logits), `x` is the input, `m` is a weight parameter, and `b` is a bias parameter.\n",
        "Train the model using the logistic loss function you derived in the previous problem.\n",
        "You must use only `numpy` and derive any derivatives yourself (i.e. no autograd from TensorFlow, MXNet, Pytorch, JAX etc!).\n",
        "Print out or plot the loss over the course of training.\n",
        "You should be able to get a loss that is close to zero by the end of training - make sure you achieve this and **explain why**."
      ],
      "metadata": {
        "id": "pSBRk8vpsqA3"
      }
    },
    {
      "cell_type": "code",
      "source": [
        "import numpy as np\n",
        "\n",
        "def generate_data():\n",
        "    size = 1000\n",
        "    rng = np.random.default_rng(seed=0)\n",
        "    y = 2*rng.integers(0, 2, size) - 1\n",
        "    x = rng.standard_normal((1000,)) + 4*y\n",
        "    return x, y"
      ],
      "metadata": {
        "id": "L150buNSoFes"
      },
      "execution_count": null,
      "outputs": []
    },
    {
      "cell_type": "code",
      "source": [
        "x,y = generate_data()\n",
        "x.shape, y.shape"
      ],
      "metadata": {
        "colab": {
          "base_uri": "https://localhost:8080/"
        },
        "id": "xTdOiLSTgBgo",
        "outputId": "96884101-efa4-45c9-aa6b-73e0cdef4191"
      },
      "execution_count": null,
      "outputs": [
        {
          "output_type": "execute_result",
          "data": {
            "text/plain": [
              "((1000,), (1000,))"
            ]
          },
          "metadata": {},
          "execution_count": 117
        }
      ]
    },
    {
      "cell_type": "code",
      "source": [
        "plt.scatter(x,y)"
      ],
      "metadata": {
        "colab": {
          "base_uri": "https://localhost:8080/",
          "height": 282
        },
        "id": "jI4X4BKATuN8",
        "outputId": "9dd8040b-4bdf-4916-e801-97c7ea14da9b"
      },
      "execution_count": null,
      "outputs": [
        {
          "output_type": "execute_result",
          "data": {
            "text/plain": [
              "<matplotlib.collections.PathCollection at 0x7fd2688317c0>"
            ]
          },
          "metadata": {},
          "execution_count": 118
        },
        {
          "output_type": "display_data",
          "data": {
            "text/plain": [
              "<Figure size 432x288 with 1 Axes>"
            ],
            "image/png": "[encoded data removed]"
          },
          "metadata": {
            "needs_background": "light"
          }
        }
      ]
    },
    {
      "cell_type": "code",
      "source": [
        "x = x.reshape([1000,1])\n",
        "y = y.reshape([1000,1])"
      ],
      "metadata": {
        "id": "iRjAiNwLjzjg"
      },
      "execution_count": null,
      "outputs": []
    },
    {
      "cell_type": "code",
      "source": [
        "class logistic_regression():\n",
        "  x,y = generate_data()\n",
        "\n",
        "  def fit(self,x,y,lr,iterations):\n",
        "    self.bias = np.ones(1)\n",
        "    self.weights = np.ones(1)\n",
        "    self.costs = []\n",
        "\n",
        "\n",
        "    for i in range(iterations):\n",
        "      o = x * self.weights + self.bias\n",
        "\n",
        "      lost_list = np.mean(loss(y,o))\n",
        "      self.costs.append(lost_list)\n",
        "\n",
        "      dw = np.mean(x*diff(y,o))\n",
        "      db = np.mean(diff(y,o))\n",
        "\n",
        "      self.weights = self.weights - lr * dw\n",
        "      self.bias = self.bias - lr * db      \n",
        "\n"
      ],
      "metadata": {
        "id": "DJtHbsiouPoy"
      },
      "execution_count": null,
      "outputs": []
    },
    {
      "cell_type": "code",
      "source": [
        "model = logistic_regression()\n",
        "model.fit(x,y,0.05,100000)\n",
        "model.weights, model.bias\n"
      ],
      "metadata": {
        "colab": {
          "base_uri": "https://localhost:8080/"
        },
        "id": "dmvGohT3j2CL",
        "outputId": "ab24d3b2-afb8-4595-8f72-5108f40ddaa6"
      },
      "execution_count": null,
      "outputs": [
        {
          "output_type": "execute_result",
          "data": {
            "text/plain": [
              "(array([3.86368387]), array([0.36443523]))"
            ]
          },
          "metadata": {},
          "execution_count": 123
        }
      ]
    },
    {
      "cell_type": "code",
      "source": [
        "plt.plot(list(range(100000)),model.costs, '-r')"
      ],
      "metadata": {
        "id": "T-b5iAVAkeK3",
        "colab": {
          "base_uri": "https://localhost:8080/",
          "height": 286
        },
        "outputId": "3c31754c-2322-43b8-a66a-ad695ba86f58"
      },
      "execution_count": null,
      "outputs": [
        {
          "output_type": "execute_result",
          "data": {
            "text/plain": [
              "[<matplotlib.lines.Line2D at 0x7fd267e338e0>]"
            ]
          },
          "metadata": {},
          "execution_count": 124
        },
        {
          "output_type": "display_data",
          "data": {
            "text/plain": [
              "<Figure size 432x288 with 1 Axes>"
            ],
            "image/png": "[encoded data removed]"
          },
          "metadata": {
            "needs_background": "light"
          }
        }
      ]
    },
    {
      "cell_type": "markdown",
      "source": [
        "After iterating the for loop with 100,000 epochs, the error converges to 0. This is mainly because the softmax cost function is convex due to the Softmax's Hessian matrix being nonnegative. This means that by minimizing the gradient of the softmax's cost function, we could converge into the minimized optimal point, which is represented by the graph above. "
      ],
      "metadata": {
        "id": "0kdVLYPyXVBC"
      }
    },
    {
      "cell_type": "markdown",
      "source": [
        "Collaborated and shared ideas of how to combat the problem with Cheng Che Tsim. Never traded codes. "
      ],
      "metadata": {
        "id": "4UOWjjdTjHDa"
      }
    },
    {
      "cell_type": "code",
      "source": [],
      "metadata": {
        "id": "7SW-JnkDja7K"
      },
      "execution_count": null,
      "outputs": []
    }
  ]
}